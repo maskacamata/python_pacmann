{
 "cells": [
  {
   "cell_type": "code",
   "execution_count": 6,
   "metadata": {},
   "outputs": [
    {
     "name": "stdout",
     "output_type": "stream",
     "text": [
      "[2, 5]\n"
     ]
    }
   ],
   "source": [
    "myList = [['ayam', 'gajah', 'harimau', 'kuda', 'elang'],\n",
    "          ['angsa', 'badak', 'singa', 'keledai', 'lovebird']]\n",
    "\n",
    "def check_structure(inputList):\n",
    "    \n",
    "    jumlah_row = len(inputList)\n",
    "    jumlah_col = len(inputList[0])\n",
    "\n",
    "    data_shape = [jumlah_row, jumlah_col]\n",
    "    return [jumlah_row, jumlah_col]\n",
    "\n",
    "data_shape = check_structure(myList)\n",
    "\n",
    "print(data_shape)"
   ]
  },
  {
   "cell_type": "code",
   "execution_count": 7,
   "metadata": {},
   "outputs": [
    {
     "name": "stdout",
     "output_type": "stream",
     "text": [
      "10.96\n"
     ]
    }
   ],
   "source": [
    "# soal 2 | weighted average\n",
    "data = [10, 20, 30, 40, 50]\n",
    "w = [0.10, 0.20, 0.25, 0.3, 0.15]\n",
    "\n",
    "data = [12, 13.5, 9.8, 10.3]\n",
    "w = [0.10, 0.20, 0.30, 0.40]\n",
    "\n",
    "def calc_weighted_avg(inputData, weight):\n",
    "    lv_nilai_total = 0\n",
    "    lv_jumlah_data = len(inputData)\n",
    "\n",
    "    for i in range(len(inputData)):\n",
    "        lv_nilai_total = lv_nilai_total + ( inputData[i] * weight[i] )\n",
    "    \n",
    "    lv_avg = lv_nilai_total / lv_jumlah_data\n",
    "\n",
    "    return lv_nilai_total\n",
    "\n",
    "nilai_total = calc_weighted_avg(data, w)\n",
    "print(nilai_total)"
   ]
  },
  {
   "cell_type": "code",
   "execution_count": 8,
   "metadata": {},
   "outputs": [
    {
     "name": "stdout",
     "output_type": "stream",
     "text": [
      "['B002', 'D004']\n"
     ]
    }
   ],
   "source": [
    "# soal 3 | Which toko is profitable?\n",
    "toko_ID = ['A001', 'B002', 'C003', 'D004']\n",
    "revenues = [80000, 120000, 57000, 450000]\n",
    "costs = [90000, 110000, 57000, 420000]\n",
    "\n",
    "def profitable_toko(tokoList, revenueList, costList):\n",
    "    profitable_toko = []\n",
    "    for i in range(len(tokoList)):\n",
    "        if revenueList[i] > costList[i]:\n",
    "            profitable_toko.append(tokoList[i])\n",
    "    \n",
    "    return profitable_toko\n",
    "\n",
    "toko_profit = profitable_toko(toko_ID, revenues, costs)\n",
    "\n",
    "print(toko_profit)"
   ]
  },
  {
   "cell_type": "code",
   "execution_count": 19,
   "metadata": {},
   "outputs": [
    {
     "name": "stdout",
     "output_type": "stream",
     "text": [
      "[6282123321123, 6282321123321, 6282456654456, 6282789987789, 'Invalid number', 6282145451145]\n"
     ]
    }
   ],
   "source": [
    "# soal 4 | Phone number cleansing\n",
    "phone_lists = [\n",
    "    '82123321123',\n",
    "    '082321123321',\n",
    "    '+6282-456-654-456',\n",
    "    '+62 82 789 987 789',\n",
    "    '14045',\n",
    "    '82145-451-145'\n",
    "]\n",
    "\n",
    "def clean_phone_number(phoneList):\n",
    "    \n",
    "    for i in range(len(phoneList)):\n",
    "        phone_nr_temp = phoneList[i]\n",
    "        cleansed_nr = ''\n",
    "\n",
    "        # cek awalan 62 dan cleansing\n",
    "        for j in range(len(phone_nr_temp)):\n",
    "            # print(phone_nr_temp[j])\n",
    "\n",
    "            if phone_nr_temp[j] in ('0123456789'):\n",
    "                cleansed_nr = cleansed_nr+phone_nr_temp[j]\n",
    "        \n",
    "        if cleansed_nr[0:2] == '62': #jika 2 char pertama 62 maka pass\n",
    "            pass\n",
    "        elif cleansed_nr[0:2] == '08': #jika 2 char pertama 08 maka replace 0 dg 62\n",
    "            cleansed_nr = cleansed_nr.replace('0', '62', 1)\n",
    "        else: #selain itu, append 62 di awal    \n",
    "            cleansed_nr = '62'+cleansed_nr                       \n",
    "\n",
    "        # cek jumlah digit\n",
    "        if len(cleansed_nr) >= 13:\n",
    "            phoneList[i] = int(cleansed_nr)\n",
    "        else:\n",
    "            phoneList[i] = 'Invalid number'\n",
    "\n",
    "    return phoneList\n",
    "\n",
    "cleansed_list = clean_phone_number(phone_lists)\n",
    "print(cleansed_list)"
   ]
  },
  {
   "cell_type": "code",
   "execution_count": 5,
   "metadata": {},
   "outputs": [
    {
     "name": "stdout",
     "output_type": "stream",
     "text": [
      "{'object': 'Danau D', 'dist': 24.07043206924213}\n"
     ]
    }
   ],
   "source": [
    "# soal 5 | Nearest tourism object\n",
    "def calc_dist(coord_obj_a, coord_obj_b):\n",
    "    distance = ( ( (coord_obj_a[0] - coord_obj_b[0]) ** 2 ) +  ( (coord_obj_a[1] - coord_obj_b[1]) ** 2 ) ) ** 0.5\n",
    "    return distance\n",
    "\n",
    "def find_nearest(current_coor, tourism_coor, tourism_name):\n",
    "    nearest = {'object':'', 'dist':0.0}\n",
    "\n",
    "    for i in range(len(tourism_name)):\n",
    "        distance = calc_dist(current_coor, tourism_coor[i])\n",
    "\n",
    "        if nearest['dist'] == 0.0:\n",
    "            nearest.update({'object': tourism_name[i], \n",
    "                            'dist':distance})\n",
    "        elif nearest['dist'] > 0:\n",
    "            if distance < nearest['dist']:\n",
    "                nearest.update({'object': tourism_name[i], \n",
    "                                'dist':distance})\n",
    "    \n",
    "    return nearest\n",
    "\n",
    "tourism_name = [\n",
    "    'Pantai A',\n",
    "    'Jembatan B',\n",
    "    'Taman C',\n",
    "    'Danau D',\n",
    "    'Perpustakaan E',\n",
    "    'Mall F',\n",
    "    'Monumen G',\n",
    "    'Taman Hutan H',\n",
    "    'Air terjun I',\n",
    "    'Gunung J'\n",
    "]\n",
    "\n",
    "tourism_coor = [\n",
    "    [-34.93, -31.23],\n",
    "    [-77.90, 79.90],\n",
    "    [46.67, 40.44],\n",
    "    [21.83, 1.94],\n",
    "    [41.77, -63.44],\n",
    "    [-1.10, -47.22],\n",
    "    [68.81, 64.65],\n",
    "    [-21.23, 22.03],\n",
    "    [68.30, -69.73],\n",
    "    [12.82, 30.75],\n",
    "]\n",
    "\n",
    "current_coor = [-2.21, 3.15]\n",
    "\n",
    "nearest = find_nearest(current_coor, tourism_coor, tourism_name)\n",
    "print(nearest)"
   ]
  },
  {
   "cell_type": "code",
   "execution_count": 11,
   "metadata": {},
   "outputs": [
    {
     "name": "stdout",
     "output_type": "stream",
     "text": [
      "[9, 9, 9, 8]\n"
     ]
    }
   ],
   "source": [
    "# soal 6 | size people in same groups\n",
    "def distribute_user(peopleNum, groupNum):\n",
    "    # create grup\n",
    "    group_list = []\n",
    "    for i in range(groupNum):\n",
    "        group_list.append(0)\n",
    "\n",
    "    peopleLast = peopleNum\n",
    "    for people in range(peopleNum):\n",
    "        if peopleLast == 0:\n",
    "            exit\n",
    "\n",
    "        for i in range(groupNum):\n",
    "            \n",
    "            if peopleLast != 0:\n",
    "                group_list[i] = group_list[i] + 1\n",
    "                peopleLast = peopleLast - 1\n",
    "            elif peopleLast == 0:\n",
    "                exit\n",
    "    \n",
    "    return group_list\n",
    "\n",
    "n = 35\n",
    "k = 4\n",
    "\n",
    "group_size = distribute_user(n,k)\n",
    "print(group_size)"
   ]
  },
  {
   "cell_type": "code",
   "execution_count": 14,
   "metadata": {},
   "outputs": [
    {
     "name": "stdout",
     "output_type": "stream",
     "text": [
      "[0, 1, 2, 3, 4, 5, 6, 7, 8, 9]\n",
      "10\n",
      "45\n",
      "4.5\n"
     ]
    }
   ],
   "source": [
    "# soal 7 summarize data with OOP\n",
    "class Data:\n",
    "\n",
    "    def read_data(self, dataList):\n",
    "        self.data = dataList\n",
    "        self.size = len(self.data)\n",
    "\n",
    "    def find_total(self):\n",
    "        self.total_val = 0\n",
    "        for i in range(self.size):\n",
    "            self.total_val = self.total_val + self.data[i]\n",
    "        return self.total_val\n",
    "    \n",
    "    def find_average(self):\n",
    "        self.average = self.total_val / self.size\n",
    "        return self.average\n",
    "\n",
    "try:\n",
    "    data = [0, 1, 2, 3, 4, 5, 6, 7, 8, 9]\n",
    "\n",
    "    data_obj = Data()\n",
    "\n",
    "    data_obj.read_data(data)\n",
    "    print(data_obj.data)\n",
    "    print(data_obj.size)\n",
    "    print(data_obj.find_total())\n",
    "    print(data_obj.find_average())\n",
    "\n",
    "except Exception as e:\n",
    "    print(e)"
   ]
  },
  {
   "cell_type": "code",
   "execution_count": 27,
   "metadata": {},
   "outputs": [
    {
     "name": "stdout",
     "output_type": "stream",
     "text": [
      "['f4c']\n"
     ]
    }
   ],
   "source": [
    "# soal 8 | function to find double promo\n",
    "def find_double_promo(user_id, promo_A_status, promo_B_status):\n",
    "    double_ID = []\n",
    "\n",
    "    for i in range(len(user_id)):\n",
    "        if promo_A_status[i] == True and promo_B_status[i] == True:\n",
    "            double_ID.append(user_id[i])\n",
    "\n",
    "    return double_ID\n",
    "    \n",
    "user_ID = ['a4a', '23b', 'f4c', '5d6']\n",
    "promo_A_status = [0, 0, 1, 0]\n",
    "promo_B_status = [0, 0, 1, 1]\n",
    "\n",
    "double_id = find_double_promo(user_ID, promo_A_status, promo_B_status)\n",
    "print(double_id)"
   ]
  },
  {
   "cell_type": "code",
   "execution_count": 49,
   "metadata": {},
   "outputs": [
    {
     "name": "stdout",
     "output_type": "stream",
     "text": [
      "[['1e', 'aa cahya'], ['d2', 'AA cahYa'], ['q5', 'AA CAHYA ']]\n"
     ]
    }
   ],
   "source": [
    "# soal 9 | find duplicate person in reasearch\n",
    "def find_duplicates(people_ID, people_name):\n",
    "    people_duplicate = []\n",
    "    name_lower = []\n",
    "    name = ''\n",
    "\n",
    "    # ubah ke lower\n",
    "    for i in range(len(people_ID)):\n",
    "        name = people_name[i].lower()\n",
    "        length = len(name)\n",
    "    # buang spasi di akhir nama    \n",
    "        if name[length-1] == ' ':\n",
    "            name = name[:length-1]\n",
    "        name_lower.append(name)\n",
    "\n",
    "    try:\n",
    "        for i in range(len(people_ID)):\n",
    "            counts = name_lower.count(name_lower[i])\n",
    "            if counts > 1:\n",
    "                duplicate = [people_ID[i], people_name[i]]\n",
    "                people_duplicate.append(duplicate)\n",
    "    except Exception as e:\n",
    "        print(e)\n",
    "    finally:\n",
    "        return people_duplicate\n",
    "\n",
    "people_ID = ['1e', 'd2', '3b', 'a4', 'q5']\n",
    "people_name = [\n",
    "    'aa cahya',\n",
    "    'AA cahYa',\n",
    "    'bb durian',\n",
    "    'cc maANGGa',\n",
    "    'AA CAHYA ',\n",
    "]\n",
    "\n",
    "duplicates = find_duplicates(people_ID, people_name)\n",
    "print(duplicates)"
   ]
  },
  {
   "cell_type": "code",
   "execution_count": 4,
   "metadata": {},
   "outputs": [
    {
     "name": "stdout",
     "output_type": "stream",
     "text": [
      "39\n"
     ]
    }
   ],
   "source": [
    "# soal 10 | time to transport logistic\n",
    "def calculate_duration(route, duration_table):\n",
    "    # buat dictionary berisi index route\n",
    "    total_time = 0\n",
    "\n",
    "    # dictionary route = index\n",
    "    route_dict = {'A' : 0, 'B' : 1, 'C' : 2, 'D' : 3, 'E' : 4}\n",
    "\n",
    "    # buat pasangan route\n",
    "    route_pair = []\n",
    "    for i in range(len(route)):\n",
    "        start = i\n",
    "        if i == (len(route)-1):\n",
    "            end_dest = 0\n",
    "        else:\n",
    "            end_dest = i + 1\n",
    "        route_pair.append((route[start], route[end_dest]))\n",
    "\n",
    "    for i in range(len(route_pair)):\n",
    "        key_1 = route_pair[i][0]\n",
    "        key_2 = route_pair[i][1]\n",
    "\n",
    "        row = route_dict[key_1]\n",
    "        col = route_dict[key_2]\n",
    "\n",
    "        total_time += duration_table[row][col]\n",
    "    \n",
    "    return total_time\n",
    "\n",
    "# duration_table = [\n",
    "#     [0, 3, 5, 10, 4],\n",
    "#     [3, 0, 6, 8, 9],\n",
    "#     [5, 6, 0, 7, 2],\n",
    "#     [10, 8, 7, 0, 1],\n",
    "#     [4, 9, 2, 1, 0]\n",
    "# ]\n",
    "# route = 'ABCDEBE'\n",
    "\n",
    "# duration_table = [\n",
    "#     [0, 3, 5, 10, 4],\n",
    "#     [3, 0, 6, 8, 9],\n",
    "#     [5, 6, 0, 7, 2],\n",
    "#     [10, 8, 7, 0, 1],\n",
    "#     [4, 9, 2, 1, 0]\n",
    "# ]\n",
    "# route = 'BE'\n",
    "\n",
    "duration_table = [\n",
    "    [0, 1, 2, 3],\n",
    "    [1, 0, 4, 5],\n",
    "    [2, 4, 0, 6],\n",
    "    [3, 5, 6, 0]\n",
    "]\n",
    "route = 'ABCDCDBAB'\n",
    "\n",
    "\n",
    "total_time = calculate_duration(route, duration_table)\n",
    "print(total_time)"
   ]
  }
 ],
 "metadata": {
  "kernelspec": {
   "display_name": "Python 3",
   "language": "python",
   "name": "python3"
  },
  "language_info": {
   "codemirror_mode": {
    "name": "ipython",
    "version": 3
   },
   "file_extension": ".py",
   "mimetype": "text/x-python",
   "name": "python",
   "nbconvert_exporter": "python",
   "pygments_lexer": "ipython3",
   "version": "3.10.5"
  }
 },
 "nbformat": 4,
 "nbformat_minor": 2
}
